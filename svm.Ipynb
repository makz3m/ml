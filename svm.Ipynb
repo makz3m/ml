{
 "cells": [
  {
   "cell_type": "code",
   "execution_count": 151,
   "id": "da7ee80b",
   "metadata": {},
   "outputs": [],
   "source": [
    "import numpy as np\n",
    "import pandas as pd\n",
    "import matplotlib.pyplot as plt"
   ]
  },
  {
   "cell_type": "code",
   "execution_count": 152,
   "id": "8021f8be",
   "metadata": {},
   "outputs": [
    {
     "data": {
      "text/plain": [
       "array([0, 0, 0, 0, 0, 0, 0, 0, 0, 0, 0, 0, 0, 0, 0, 0, 0, 0, 0, 0, 0, 0,\n",
       "       0, 0, 0, 0, 0, 0, 0, 0, 0, 0, 0, 0, 0, 0, 0, 0, 0, 0, 0, 0, 0, 0,\n",
       "       0, 0, 0, 0, 0, 0, 1, 1, 1, 1, 1, 1, 1, 1, 1, 1, 1, 1, 1, 1, 1, 1,\n",
       "       1, 1, 1, 1, 1, 1, 1, 1, 1, 1, 1, 1, 1, 1, 1, 1, 1, 1, 1, 1, 1, 1,\n",
       "       1, 1, 1, 1, 1, 1, 1, 1, 1, 1, 1, 1, 2, 2, 2, 2, 2, 2, 2, 2, 2, 2,\n",
       "       2, 2, 2, 2, 2, 2, 2, 2, 2, 2, 2, 2, 2, 2, 2, 2, 2, 2, 2, 2, 2, 2,\n",
       "       2, 2, 2, 2, 2, 2, 2, 2, 2, 2, 2, 2, 2, 2, 2, 2, 2, 2])"
      ]
     },
     "execution_count": 152,
     "metadata": {},
     "output_type": "execute_result"
    }
   ],
   "source": [
    "from sklearn.datasets import load_iris\n",
    "X, Y = load_iris()['data'], load_iris()['target']\n",
    "Y"
   ]
  },
  {
   "cell_type": "code",
   "execution_count": 153,
   "id": "57c4effb",
   "metadata": {},
   "outputs": [],
   "source": [
    "from sklearn.base import ClassifierMixin\n",
    "\n",
    "class SVM(ClassifierMixin):\n",
    "    def __init__(self, lam=0.01, lr=0.1, epochs=200):\n",
    "        super(SVM).__init__()\n",
    "        self.lam = lam\n",
    "        self.lr = lr\n",
    "        self.epochs = epochs\n",
    "        self.w = None\n",
    "        self.b = None\n",
    "        self.mapper = dict()\n",
    "\n",
    "    def map_classes(self, Y):\n",
    "        classes = list(set(Y))\n",
    "        Y = (Y == classes[0]).astype(int)\n",
    "        Y[Y==0] = -1\n",
    "        self.mapper[1] = classes[0]\n",
    "        self.mapper[-1] = classes[1]\n",
    "        return Y\n",
    "    \n",
    "    def demap_classes(self, ans):\n",
    "        return np.array([self.mapper[1] if i == 1 else self.mapper[-1] for i in ans])\n",
    "\n",
    "\n",
    "    def fit(self, X,Y):\n",
    "        Y = self.map_classes(Y)\n",
    "        n,d = X.shape\n",
    "        self.w = np.random.random(d)\n",
    "        self.b = 0\n",
    "        for _ in range(self.epochs):\n",
    "            idx = np.random.permutation(n)\n",
    "            for i in idx:\n",
    "                margin = Y[i] * ( np.dot(X[i],self.w) + self.b )\n",
    "                w_grad = 2*self.lam*self.w \n",
    "                b_grad = 0\n",
    "                if margin < 1:\n",
    "                    w_grad -= Y[i] * X[i]\n",
    "                    b_grad -= Y[i]\n",
    "                self.w -= self.lr * w_grad\n",
    "                self.b -= self.lr * b_grad\n",
    "\n",
    "        return self\n",
    "\n",
    "    def predict(self, X):\n",
    "        ans = []\n",
    "        for i in range(len(X)):\n",
    "            ans.append(float(np.sign((np.dot(X[i], self.w) + self.b))))\n",
    "        return self.demap_classes(ans)\n"
   ]
  },
  {
   "cell_type": "code",
   "execution_count": 154,
   "id": "c3cb74c4",
   "metadata": {},
   "outputs": [
    {
     "data": {
      "text/plain": [
       "array([0, 0, 0, 0, 0, 0, 0, 0, 0, 0, 0, 0, 0, 0, 0, 0, 0, 0, 0, 0, 0, 0,\n",
       "       0, 0, 0, 0, 0, 0, 0, 0, 0, 0, 0, 0, 0, 0, 0, 0, 0, 0, 0, 0, 0, 0,\n",
       "       0, 0, 0, 0, 0, 0, 1, 1, 1, 1, 1, 1, 1, 1, 1, 1, 1, 1, 1, 1, 1, 1,\n",
       "       1, 1, 1, 1, 1, 1, 1, 1, 1, 1, 1, 1, 1, 1, 1, 1, 1, 1, 1, 1, 1, 1,\n",
       "       1, 1, 1, 1, 1, 1, 1, 1, 1, 1, 1, 1, 1, 1, 1, 1, 1, 1, 1, 1, 1, 1,\n",
       "       1, 1, 1, 1, 1, 1, 1, 1, 1, 1, 1, 1, 1, 1, 1, 1, 1, 1, 1, 1, 1, 1,\n",
       "       1, 1, 1, 1, 1, 1, 1, 1, 1, 1, 1, 1, 1, 1, 1, 1, 1, 1])"
      ]
     },
     "execution_count": 154,
     "metadata": {},
     "output_type": "execute_result"
    }
   ],
   "source": [
    "svm = SVM()\n",
    "svm.fit(X,Y)\n",
    "pred = svm.predict(X)\n",
    "pred"
   ]
  },
  {
   "cell_type": "code",
   "execution_count": 155,
   "id": "1d2f0e99",
   "metadata": {},
   "outputs": [],
   "source": [
    "from sklearn.metrics import f1_score, recall_score, accuracy_score, precision_score\n",
    "# print(f1_score(y_true=Y, y_pred=pred))\n",
    "# print(recall_score(y_true=Y, y_pred=pred))\n",
    "# print(accuracy_score(y_true=Y, y_pred=pred))\n",
    "# print(precision_score(y_true=Y, y_pred=pred))"
   ]
  },
  {
   "cell_type": "code",
   "execution_count": 156,
   "id": "f339703a",
   "metadata": {},
   "outputs": [
    {
     "data": {
      "text/plain": [
       "(array([ 0.13376252,  1.22546416, -1.80775862, -0.88172913]),\n",
       " np.float64(2.400000000000001))"
      ]
     },
     "execution_count": 156,
     "metadata": {},
     "output_type": "execute_result"
    }
   ],
   "source": [
    "svm.w, svm.b"
   ]
  },
  {
   "cell_type": "code",
   "execution_count": 157,
   "id": "618e95c7",
   "metadata": {},
   "outputs": [],
   "source": [
    "def print_hyperplane(svms):\n",
    "    def get_hyperplane_value(x, w, b, offset):\n",
    "        return -(w[0] * x + b + offset) / w[1]\n",
    "\n",
    "    fig = plt.figure()\n",
    "    ax = fig.add_subplot(1, 1, 1)\n",
    "    plt.scatter(X[:, 0], X[:, 1], marker=\"o\", c=Y)\n",
    "\n",
    "    x0_1 = np.amin(X[:, 0])\n",
    "    x0_2 = np.amax(X[:, 0])\n",
    "    colors = ['b', 'g', 'r', 'c', 'm', 'y', 'k', 'w']\n",
    "    for i, svm in enumerate(svms):\n",
    "        \n",
    "        x1_1 = get_hyperplane_value(x0_1, svm.w, svm.b, 0)\n",
    "        x1_2 = get_hyperplane_value(x0_2, svm.w, svm.b, 0)\n",
    "        ax.plot([x0_1, x0_2], [x1_1, x1_2], colors[i])\n",
    "\n",
    "    x1_min = np.amin(X[:, 1])\n",
    "    x1_max = np.amax(X[:, 1])\n",
    "    ax.set_ylim([x1_min - 3, x1_max + 3])\n",
    "\n",
    "    plt.show()"
   ]
  },
  {
   "cell_type": "markdown",
   "id": "a34e3830",
   "metadata": {},
   "source": [
    " Окей, получился svm, который пытается разделить объекты на два класса. Обобщаем для многоклассовой классификации"
   ]
  },
  {
   "cell_type": "markdown",
   "id": "d1975760",
   "metadata": {},
   "source": [
    "<h1>\"Все против всех\" или \"Один против всех\" ??</h1> \n",
    "\n",
    "В случае один против всех будет слишком большой дисбаланс классов, что приведет к нелучшим результатам. А метод Все против всех у нас количество классификаторов растет квадратично. Поэтому нужно решить, что нам подходит больше. Ествественно, если у нас классов меньше, например, 5, лучше использовать all-vs-all. В айрис датасете всего 3 класса, поэтому почему бы не пожертвовать 3 секундами вычисления для более точной классификации\n"
   ]
  },
  {
   "cell_type": "markdown",
   "id": "d88307a8",
   "metadata": {},
   "source": [
    "Напишем класс, который будет принимать полный датасет и разделять метки классов на пары, после чего обрабатывать эти пары нашей svm"
   ]
  },
  {
   "cell_type": "code",
   "execution_count": 158,
   "id": "d0c5d786",
   "metadata": {},
   "outputs": [],
   "source": [
    "from itertools import combinations\n",
    "class all_vs_all(ClassifierMixin):\n",
    "    def __init__(self, lam=0.01, lr=0.1, epochs=200):\n",
    "        super(all_vs_all).__init__()\n",
    "        self.svms = []\n",
    "        self.lam = lam\n",
    "        self.lr = lr\n",
    "        self.epochs = epochs\n",
    "\n",
    "    def print_score(self, svm, x, y, cl1,cl2):\n",
    "        pred = svm.predict(x)\n",
    "        print(f\"SVM classes {cl1} and {cl2}\")\n",
    "        print('f1', f1_score(y_true=y, y_pred=pred, pos_label = cl1))\n",
    "        print('recall', recall_score(y_true=y, y_pred=pred, pos_label = cl1))\n",
    "        print('accuracy', accuracy_score(y_true=y, y_pred=pred))\n",
    "        print('precision', precision_score(y_true=y, y_pred=pred, pos_label = cl1), '\\n')\n",
    "\n",
    "    def print_hyperplanes(self,):\n",
    "        print_hyperplane(self.svms)\n",
    "        \n",
    "    def fit(self, X:np.ndarray, Y:np.ndarray, pr=False):\n",
    "        combs = list(combinations(set([int(i) for i in list(Y)]), 2))\n",
    "        self.svms = []\n",
    "        for cl1, cl2 in combs:\n",
    "            svm = SVM(self.lam, self.lr, self.epochs)\n",
    "            y = np.concat([Y[Y == cl1],Y[Y==cl2]])\n",
    "            x = np.concat([X[Y == cl1],X[Y==cl2]])\n",
    "            svm.fit(X=x, Y=y)\n",
    "            self.svms.append(svm)\n",
    "            if pr: \n",
    "                self.print_score(svm,x,y,cl1,cl2)\n"
   ]
  },
  {
   "cell_type": "code",
   "execution_count": 162,
   "id": "2d93155e",
   "metadata": {},
   "outputs": [
    {
     "name": "stdout",
     "output_type": "stream",
     "text": [
      "SVM classes 0 and 1\n",
      "f1 1.0\n",
      "recall 1.0\n",
      "accuracy 1.0\n",
      "precision 1.0 \n",
      "\n",
      "SVM classes 0 and 2\n",
      "f1 1.0\n",
      "recall 1.0\n",
      "accuracy 1.0\n",
      "precision 1.0 \n",
      "\n",
      "SVM classes 1 and 2\n",
      "f1 0.8849557522123894\n",
      "recall 1.0\n",
      "accuracy 0.87\n",
      "precision 0.7936507936507936 \n",
      "\n"
     ]
    }
   ],
   "source": [
    "clf = all_vs_all()\n",
    "clf.fit(X,Y, pr=True)\n"
   ]
  }
 ],
 "metadata": {
  "kernelspec": {
   "display_name": "Python 3",
   "language": "python",
   "name": "python3"
  },
  "language_info": {
   "codemirror_mode": {
    "name": "ipython",
    "version": 3
   },
   "file_extension": ".py",
   "mimetype": "text/x-python",
   "name": "python",
   "nbconvert_exporter": "python",
   "pygments_lexer": "ipython3",
   "version": "3.13.3"
  }
 },
 "nbformat": 4,
 "nbformat_minor": 5
}
