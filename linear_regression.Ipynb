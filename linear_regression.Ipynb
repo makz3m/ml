{
 "cells": [
  {
   "cell_type": "code",
   "execution_count": 2,
   "id": "1fe3b63c",
   "metadata": {},
   "outputs": [],
   "source": [
    "from sklearn.base import RegressorMixin\n",
    "\n",
    "import numpy as np\n"
   ]
  },
  {
   "cell_type": "markdown",
   "id": "fc306455",
   "metadata": {},
   "source": [
    "Напишем линейную регрессию с l2 регуляризацией (ridge)\n",
    "\n",
    "Обучать ее будем с помощью стохастического градиентного спуска"
   ]
  },
  {
   "cell_type": "code",
   "execution_count": 39,
   "id": "e0231c72",
   "metadata": {},
   "outputs": [],
   "source": [
    "class ridge(RegressorMixin):\n",
    "    def __init__(self, lr = 0.01, lam=0.1, batch_size = 64, epochs = 200):\n",
    "        super().__init__()\n",
    "        self.lr = lr\n",
    "        self.lam = lam\n",
    "        self.batch_size = batch_size\n",
    "        self.epochs = epochs\n",
    "        self.w = None\n",
    "        self.b = None\n",
    "\n",
    "    def fit(self, X:np.ndarray, Y):\n",
    "        n,d = X.shape\n",
    "        self.w = np.random.random(d)\n",
    "        self.b = 0\n",
    "        for _ in range(self.epochs):\n",
    "            idx = np.random.choice(np.arange(n), self.batch_size)\n",
    "\n",
    "            x = X[idx]\n",
    "            y = Y[idx]\n",
    "\n",
    "            error = np.dot(x,self.w) + self.b - y\n",
    "            w_grad = 2 * np.matmul(x.T, error) + 2 * self.lam * self.w\n",
    "            b_grad = 2 * np.sum(error)\n",
    "\n",
    "            self.w -= self.lr * w_grad / self.batch_size\n",
    "            self.b -= self.lr * b_grad / self.batch_size\n",
    "        return self\n",
    "\n",
    "    def predict(self, X:np.ndarray):\n",
    "        y_pred = []\n",
    "\n",
    "        for i in range(len(X)):\n",
    "            y = np.dot(self.w, X[i]) + self.b\n",
    "            y_pred.append(y)\n",
    "\n",
    "        return y_pred\n",
    "            "
   ]
  },
  {
   "cell_type": "markdown",
   "id": "aa9292a0",
   "metadata": {},
   "source": [
    "Протестируем написанную модель. "
   ]
  },
  {
   "cell_type": "code",
   "execution_count": 40,
   "id": "fa8b4916",
   "metadata": {},
   "outputs": [
    {
     "data": {
      "text/plain": [
       "5583.705040881627"
      ]
     },
     "execution_count": 40,
     "metadata": {},
     "output_type": "execute_result"
    }
   ],
   "source": [
    "from sklearn import datasets\n",
    "from sklearn.metrics import mean_squared_error\n",
    "from sklearn.model_selection import train_test_split\n",
    "\n",
    "\n",
    "\n",
    "X, Y = datasets.load_diabetes(return_X_y=True)\n",
    "X_train, X_test, y_train, y_test = train_test_split(X, Y, test_size=0.33, random_state=42)\n",
    "lr = ridge()\n",
    "lr.fit(X_train, y_train)\n",
    "pred = lr.predict(X_test)\n",
    "mean_squared_error(pred,y_test)"
   ]
  }
 ],
 "metadata": {
  "kernelspec": {
   "display_name": "Python 3",
   "language": "python",
   "name": "python3"
  },
  "language_info": {
   "codemirror_mode": {
    "name": "ipython",
    "version": 3
   },
   "file_extension": ".py",
   "mimetype": "text/x-python",
   "name": "python",
   "nbconvert_exporter": "python",
   "pygments_lexer": "ipython3",
   "version": "3.13.3"
  }
 },
 "nbformat": 4,
 "nbformat_minor": 5
}
