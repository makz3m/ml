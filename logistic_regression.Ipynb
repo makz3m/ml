{
 "cells": [
  {
   "cell_type": "code",
   "execution_count": 5,
   "id": "04697070",
   "metadata": {},
   "outputs": [],
   "source": [
    "from sklearn.base import ClassifierMixin\n",
    "import pandas as pd\n",
    "import numpy as np\n",
    "\n"
   ]
  },
  {
   "cell_type": "code",
   "execution_count": null,
   "id": "2fa46df5",
   "metadata": {},
   "outputs": [],
   "source": [
    "class logreg(ClassifierMixin):\n",
    "    def __init__(self, lr = 0.01, epochs = 200):\n",
    "        super().__init__()\n",
    "        self.lr = lr\n",
    "        self.epochs = epochs\n",
    "        self.w = None\n",
    "        self.b = None\n",
    "\n",
    "    def sigmoid(self, z):\n",
    "        return 1 / (1 + np.e**(-z))\n",
    "    \n",
    "\n",
    "    def fit(self, X:np.ndarray, Y:np.ndarray, pos_class:int):\n",
    "        n, d = X.shape\n",
    "        self.w = np.random.random(d)\n",
    "        self.b = np.random.randint(0,5) \n",
    "        Y = Y == pos_class.astype()\n",
    "\n",
    "        for _ in range(self.epochs):\n",
    "            idx = np.random.permutation(n)\n",
    "            for i in idx: \n",
    "                er = Y[i] - self.sigmoid(np.dot(self.w, X[i]) + self.b)\n",
    "                w_grad = - X[i] * er\n",
    "                b_grad = - er\n",
    "                self.w -= self.lr * w_grad\n",
    "                self.b -= self.lr * b_grad\n",
    "        return self\n",
    "    \n",
    "    def predict(self, X:np.ndarray):\n",
    "        n,d = X.shape\n",
    "        ans = []\n",
    "        for i in range(n):\n",
    "            p = self.sigmoid(np.dot(X[i], self.w) + self.b)\n",
    "            ans.append(p)\n",
    "        return np.array(ans).round(3)\n",
    "\n",
    "            "
   ]
  },
  {
   "cell_type": "code",
   "execution_count": 67,
   "id": "d0a36f01",
   "metadata": {},
   "outputs": [],
   "source": [
    "from sklearn.datasets import load_iris\n",
    "X, Y = load_iris()['data'][:100], load_iris()['target'][:100]"
   ]
  },
  {
   "cell_type": "code",
   "execution_count": 98,
   "id": "97bb06f3",
   "metadata": {},
   "outputs": [
    {
     "data": {
      "text/plain": [
       "0.0038787878787878787"
      ]
     },
     "execution_count": 98,
     "metadata": {},
     "output_type": "execute_result"
    }
   ],
   "source": [
    "from sklearn.model_selection import train_test_split\n",
    "from sklearn.metrics import mean_absolute_error\n",
    "\n",
    "X_train, X_test, y_train, y_test = train_test_split(X, Y, test_size=0.33, random_state=42)\n",
    "\n",
    "lr = logreg()\n",
    "lr.fit(X_train, y_train)\n",
    "pred = lr.predict(X_test)\n",
    "mean_absolute_error(pred, y_test)\n"
   ]
  },
  {
   "cell_type": "markdown",
   "id": "ee12907e",
   "metadata": {},
   "source": [
    "У нас получилось что-то работающее. Обобщим для многоклассовой классификации"
   ]
  },
  {
   "cell_type": "code",
   "execution_count": null,
   "id": "3237e699",
   "metadata": {},
   "outputs": [],
   "source": [
    "class smax(ClassifierMixin):\n",
    "    def __init__(self, lr = 0.01, epochs = 200):\n",
    "        super().__init__()\n",
    "        self.lr = lr\n",
    "        self.epochs = epochs\n",
    "\n",
    "        self.logregs =[]\n",
    "\n",
    "    def fit(self, X:np.ndarray, Y:np.ndarray):\n",
    "        classes = set(Y)\n",
    "        for i in \n",
    "        "
   ]
  },
  {
   "cell_type": "code",
   "execution_count": 101,
   "id": "40087f2e",
   "metadata": {},
   "outputs": [
    {
     "name": "stdout",
     "output_type": "stream",
     "text": [
      "{np.int64(0), np.int64(1)}\n"
     ]
    }
   ],
   "source": [
    "smax().fit(X,Y)"
   ]
  }
 ],
 "metadata": {
  "kernelspec": {
   "display_name": "Python 3",
   "language": "python",
   "name": "python3"
  },
  "language_info": {
   "codemirror_mode": {
    "name": "ipython",
    "version": 3
   },
   "file_extension": ".py",
   "mimetype": "text/x-python",
   "name": "python",
   "nbconvert_exporter": "python",
   "pygments_lexer": "ipython3",
   "version": "3.13.3"
  }
 },
 "nbformat": 4,
 "nbformat_minor": 5
}
